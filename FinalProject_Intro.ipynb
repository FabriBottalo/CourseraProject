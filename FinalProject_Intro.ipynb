{
 "cells": [
  {
   "cell_type": "markdown",
   "metadata": {},
   "source": [
    "# Is Buenos Aires an European City?"
   ]
  },
  {
   "cell_type": "markdown",
   "metadata": {},
   "source": [
    "#### Author: Fabricio Bottalo"
   ]
  },
  {
   "cell_type": "markdown",
   "metadata": {},
   "source": [
    "## Requirement for Week 1"
   ]
  },
  {
   "cell_type": "markdown",
   "metadata": {},
   "source": [
    "## 1.Introduction"
   ]
  },
  {
   "cell_type": "markdown",
   "metadata": {},
   "source": [
    "Argentina is a country that has been populated by european inmigration mainly, in different waves during the XIX and XX centuries. According to some studies, up to 90% of it population has been linked with European descendants.\n",
    "Nowadays, the inmigrants in Argentina only represents aproximatly 5% of the population, and it origin has migrated from Europe to the neighbor countries. Paraguay, Bolivia, Chile and Perú are the principal origin of the current migrants.\n",
    "\n",
    "Some studies declare that 63% of the population of Argentina is descendant for at least one Spanish inmigrant, and other 60% is it for at least one Italian. So, there is a visible impact of those two countries inmigrants in the Argentina's demography.\n",
    "Also, it had a big impact in its culture. Mainly in the capital, Buenos Aires, people have a lot of spanish or italian manners, architecture, foods or slangs. There is a typical saying of the city, that it is said that \"it is a part of Europe in South America\".\n",
    "So, as the manners could be similar to ones of the occidental european cultures, the cities should be alike, in terms of way of living, beyond the differences of the economical impact. It would be interesiting to see if that is correct, by analizing the type venues that a city offers.\n",
    "It is also possible that different neighborhoods of Buenos Aires could be similar to different countries of Europe, as the inmigrants, and their cultures, were not perfectly distributed between the city.\n",
    "\n",
    "In conclusion, the objective of this project will be analize the venues that each of the neighborhood in Buenos Aires offer, and conclude if there are similar to some European neighborhood or they are more South American. Analizing every neighborhood of the city could tell us the impact of the inmigration of previous generations."
   ]
  },
  {
   "cell_type": "markdown",
   "metadata": {},
   "source": [
    "## 2.Data Requirements"
   ]
  },
  {
   "cell_type": "markdown",
   "metadata": {},
   "source": [
    "For this project, I will use the data of Forsquare to obtain the different venues of each neighborhood, and the database of the neighborhoods present in Buenos Aires from the cities web-site:https://data.buenosaires.gob.ar/dataset/barrios. \n",
    "The late one contains information about the location, zip codes and names of the neighborhoods."
   ]
  },
  {
   "cell_type": "code",
   "execution_count": null,
   "metadata": {},
   "outputs": [],
   "source": []
  }
 ],
 "metadata": {
  "kernelspec": {
   "display_name": "Python 3",
   "language": "python",
   "name": "python3"
  },
  "language_info": {
   "codemirror_mode": {
    "name": "ipython",
    "version": 3
   },
   "file_extension": ".py",
   "mimetype": "text/x-python",
   "name": "python",
   "nbconvert_exporter": "python",
   "pygments_lexer": "ipython3",
   "version": "3.7.3"
  }
 },
 "nbformat": 4,
 "nbformat_minor": 2
}
